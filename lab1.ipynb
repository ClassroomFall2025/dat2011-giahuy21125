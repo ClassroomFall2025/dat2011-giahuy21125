{
 "cells": [
  {
   "cell_type": "markdown",
   "id": "fdeff819",
   "metadata": {},
   "source": [
    "# Sinh Viên thực hiện Lab 1 ở Đây"
   ]
  },
  {
   "cell_type": "markdown",
   "id": "acc5d7dc",
   "metadata": {},
   "source": [
    "## Lab 1 - Bài 1"
   ]
  },
  {
   "cell_type": "code",
   "execution_count": null,
   "id": "001e0507",
   "metadata": {},
   "outputs": [],
   "source": [
    "# Code lab 1 bài 1 ở đây"
   ]
  },
  {
   "cell_type": "code",
   "execution_count": 2,
   "id": "7ee8790b",
   "metadata": {},
   "outputs": [
    {
     "name": "stdout",
     "output_type": "stream",
     "text": [
      "Hello\n",
      "My name's Ho Gia Huy.\n",
      "I'm from Vietnam.\n"
     ]
    }
   ],
   "source": [
    "print(\"Hello\")\n",
    "print(\"My name's Ho Gia Huy.\")\n",
    "print(\"I'm from Vietnam.\")"
   ]
  },
  {
   "cell_type": "markdown",
   "id": "c0835310",
   "metadata": {},
   "source": [
    "## Lab 1 - Bài 2"
   ]
  },
  {
   "cell_type": "code",
   "execution_count": null,
   "id": "fa9cb39f",
   "metadata": {},
   "outputs": [],
   "source": [
    "# Code lab 1  bài 2 ở đây"
   ]
  },
  {
   "cell_type": "code",
   "execution_count": 6,
   "id": "3891dc6e",
   "metadata": {},
   "outputs": [
    {
     "name": "stdout",
     "output_type": "stream",
     "text": [
      "Chu vi của hình chữ nhật là: 20.0\n",
      "Diện tích của hình chữ nhật là: 25.0\n"
     ]
    }
   ],
   "source": [
    "# Nhập chiều dài và chiều rộng từ bàn phím\n",
    "chieu_dai = float(input(\"Nhập chiều dài của hình chữ nhật: \"))\n",
    "chieu_rong = float(input(\"Nhập chiều rộng của hình chữ nhật: \"))\n",
    "\n",
    "# Tính chu vi và diện tích\n",
    "chu_vi = 2 * (chieu_dai + chieu_rong)\n",
    "dien_tich = chieu_dai * chieu_rong\n",
    "\n",
    "# Xuất kết quả ra màn hình\n",
    "print(\"Chu vi của hình chữ nhật là:\", chu_vi)\n",
    "print(\"Diện tích của hình chữ nhật là:\", dien_tich)"
   ]
  },
  {
   "cell_type": "markdown",
   "id": "0f2483fe",
   "metadata": {},
   "source": [
    "## Lab 1 - Bài 3"
   ]
  },
  {
   "cell_type": "code",
   "execution_count": null,
   "id": "7034990b",
   "metadata": {},
   "outputs": [],
   "source": [
    "# Code lab 1  bài 3 ở đây"
   ]
  },
  {
   "cell_type": "code",
   "execution_count": 4,
   "id": "7c0277d9",
   "metadata": {},
   "outputs": [
    {
     "name": "stdout",
     "output_type": "stream",
     "text": [
      "\"...\n",
      "Sống không giận, không hờn không oán trách\n",
      "Sống mỉm cười, với thử thách chông gai\n",
      "Sống vươn lên, theo kịp ánh ban mai\n",
      "Sống chan hòa, với những người chung sống.\n",
      "\n",
      "Sống là động, nhưng lòng luôn bất động\n",
      "Sống là thương, nhưng lòng chẳng vấn vương\n",
      "Sống yên vui, danh lợi mãi coi thường\n",
      "Tâm bất biến, giữa dòng đời vạn biến.\n",
      "...\"\n"
     ]
    }
   ],
   "source": [
    "# Khai báo 1 biến để lưu từ \"Sống\"\n",
    "song = \"Sống\"\n",
    "\n",
    "# In bài thơ với dấu nháy kép ở đầu và cuối; chèn biến ở các dòng bắt đầu bằng \"Sống\"\n",
    "print('\"...')\n",
    "print(f\"{song} không giận, không hờn không oán trách\")\n",
    "print(f\"{song} mỉm cười, với thử thách chông gai\")\n",
    "print(f\"{song} vươn lên, theo kịp ánh ban mai\")\n",
    "print(f\"{song} chan hòa, với những người chung sống.\")\n",
    "\n",
    "# 1 dòng trống giữa 2 khổ thơ\n",
    "print()\n",
    "\n",
    "print(f\"{song} là động, nhưng lòng luôn bất động\")\n",
    "print(f\"{song} là thương, nhưng lòng chẳng vấn vương\")\n",
    "print(f\"{song} yên vui, danh lợi mãi coi thường\")\n",
    "print(\"Tâm bất biến, giữa dòng đời vạn biến.\")\n",
    "print('...\"')\n"
   ]
  },
  {
   "cell_type": "markdown",
   "id": "d36ea3d3",
   "metadata": {},
   "source": [
    "## Lab 1 - Bài 4"
   ]
  },
  {
   "cell_type": "code",
   "execution_count": null,
   "id": "4c707ec1",
   "metadata": {},
   "outputs": [],
   "source": [
    "# code lab 1 bài 4 ở đây"
   ]
  },
  {
   "cell_type": "code",
   "execution_count": 5,
   "id": "6769b585",
   "metadata": {},
   "outputs": [
    {
     "name": "stdout",
     "output_type": "stream",
     "text": [
      "Delta = -175.0\n",
      "Delta âm, không có căn bậc hai thực\n"
     ]
    }
   ],
   "source": [
    "import math\n",
    "\n",
    "# Nhập các hệ số a, b, c\n",
    "a = float(input(\"Nhập hệ số a: \"))\n",
    "b = float(input(\"Nhập hệ số b: \"))\n",
    "c = float(input(\"Nhập hệ số c: \"))\n",
    "\n",
    "# Tính delta\n",
    "delta = b * b - 4 * a * c\n",
    "print(\"Delta =\", delta)\n",
    "\n",
    "# Kiểm tra delta trước khi tính căn bậc hai\n",
    "if delta >= 0:\n",
    "    can_delta = math.sqrt(delta)\n",
    "    print(\"Căn delta =\", can_delta)\n",
    "else:\n",
    "    print(\"Delta âm, không có căn bậc hai thực\")\n"
   ]
  },
  {
   "cell_type": "markdown",
   "id": "e2b41d4a",
   "metadata": {},
   "source": [
    "## Lab 1 - Bài 5: bài tập làm thêm"
   ]
  },
  {
   "cell_type": "code",
   "execution_count": null,
   "id": "0e0172f7",
   "metadata": {},
   "outputs": [],
   "source": [
    "# code lab 1  bài làm thêm ở đây "
   ]
  },
  {
   "cell_type": "code",
   "execution_count": null,
   "id": "d5f27b77",
   "metadata": {},
   "outputs": [],
   "source": []
  }
 ],
 "metadata": {
  "kernelspec": {
   "display_name": "Python 3",
   "language": "python",
   "name": "python3"
  },
  "language_info": {
   "codemirror_mode": {
    "name": "ipython",
    "version": 3
   },
   "file_extension": ".py",
   "mimetype": "text/x-python",
   "name": "python",
   "nbconvert_exporter": "python",
   "pygments_lexer": "ipython3",
   "version": "3.13.7"
  }
 },
 "nbformat": 4,
 "nbformat_minor": 5
}
