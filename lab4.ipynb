{
 "cells": [
  {
   "cell_type": "markdown",
   "id": "fdeff819",
   "metadata": {},
   "source": [
    "# Sinh Viên thực hiện Lab 4 ở Đây"
   ]
  },
  {
   "cell_type": "markdown",
   "id": "acc5d7dc",
   "metadata": {},
   "source": [
    "## Lab 1 - Bài 1"
   ]
  },
  {
   "cell_type": "code",
   "execution_count": null,
   "id": "001e0507",
   "metadata": {},
   "outputs": [],
   "source": [
    "# Code lab 4 bài 1 ở đây"
   ]
  },
  {
   "cell_type": "code",
   "execution_count": 1,
   "id": "afdb6229",
   "metadata": {},
   "outputs": [
    {
     "name": "stdout",
     "output_type": "stream",
     "text": [
      "Tổng tiền của bạn là: 75000 VNĐ\n"
     ]
    }
   ],
   "source": [
    "\"\"\"\n",
    "Viết một hàm để tính tiền nước sinh hoạt theo phương pháp lũy tiến. \n",
    "Tham số truyền vào hàm là số nước sử dụng trong tháng.\n",
    "\"\"\"\n",
    "# Định nghĩa hàm tinh_tien_nuoc nhận đầu vào là sản lượng nước\n",
    "def tinh_tien_nuoc(sanluongnuoc):\n",
    "    # Giá bán nước ứng với từng bậc (tuple)\n",
    "    giabannuoc = (7500, 8800, 12000, 24000)\n",
    "    # Khởi tạo biến tổng tiền nước là 0\n",
    "    tongtien_nuoc = 0\n",
    "\n",
    "    # Tính tiền nước theo quy định bậc thang\n",
    "    if sanluongnuoc <= 10:  # Nếu sản lượng nước nhỏ hơn hoặc bằng 10m3\n",
    "        tongtien_nuoc = sanluongnuoc * giabannuoc[0]  # Nhân với đơn giá bậc 1\n",
    "    elif sanluongnuoc <= 20:  # Nếu sản lượng nước từ 11 đến 20m3\n",
    "        tongtien_nuoc = 10 * giabannuoc[0] + (sanluongnuoc - 10) * giabannuoc[1]  # Tính bậc 1 và bậc 2\n",
    "    elif sanluongnuoc <= 30:  # Nếu sản lượng nước từ 21 đến 30m3\n",
    "        tongtien_nuoc = 10 * giabannuoc[0] + 10 * giabannuoc[1] + (sanluongnuoc - 20) * giabannuoc[2]  # Tính bậc 1, 2 và 3\n",
    "    else:  # Nếu sản lượng nước trên 30m3\n",
    "        tongtien_nuoc = 10 * giabannuoc[0] + 10 * giabannuoc[1] + 10 * giabannuoc[2] + (sanluongnuoc - 30) * giabannuoc[3]  # Tính tất cả các bậc\n",
    "\n",
    "    # Trả về tổng tiền nước phải trả\n",
    "    return tongtien_nuoc\n",
    "\n",
    "# Nhập sản lượng nước từ bàn phím\n",
    "sanluongnuoc = int(input('Please nhập sản lượng nước: '))\n",
    "# Gọi hàm để tính tổng tiền nước dựa trên sản lượng nhập vào\n",
    "tongtien_nuoc = tinh_tien_nuoc(sanluongnuoc)\n",
    "\n",
    "# In tổng tiền nước ra màn hình theo định dạng mong muốn\n",
    "print(f'Tổng tiền của bạn là: {tongtien_nuoc} VNĐ')\n",
    "\n",
    "# Kiểm tra nếu chạy trực tiếp file thì thực hiện tính tiền nước\n",
    "if __name__ == \"__main__\":\n",
    "    tinh_tien_nuoc(sanluongnuoc)\n"
   ]
  },
  {
   "cell_type": "markdown",
   "id": "c0835310",
   "metadata": {},
   "source": [
    "## Lab 4 - Bài 2"
   ]
  },
  {
   "cell_type": "code",
   "execution_count": null,
   "id": "fa9cb39f",
   "metadata": {},
   "outputs": [],
   "source": [
    "# Code lab 4  bài 2 ở đây"
   ]
  },
  {
   "cell_type": "code",
   "execution_count": null,
   "id": "fda111c6",
   "metadata": {},
   "outputs": [],
   "source": [
    "# Định nghĩa hàm tính tổng nguyên liệu đường và đậu dùng cho các loại bánh\n",
    "def tinh_nguyen_lieu(bd_banhdauxanh, bd_banhthapcam, bd_banhdeo): \n",
    "    # Tính tổng nguyên liệu đường cần dùng cho các bánh, dựa trên số lượng từng loại bánh\n",
    "    tong_duong = (\n",
    "                  bd_banhdauxanh * nguyen_lieu_duong['Banhdauxanh'] + \n",
    "                  bd_banhthapcam * nguyen_lieu_duong['Banhthapcam'] + \n",
    "                  bd_banhdeo * nguyen_lieu_duong['banhdeo']\n",
    "                  ) \n",
    "    # Tính tổng nguyên liệu đậu cần dùng cho các bánh theo sản lượng từng loại bánh\n",
    "    tong_deo = (\n",
    "                bd_banhdauxanh * nguyen_lieu_dau['Banhdauxanh'] + \n",
    "                bd_banhthapcam * nguyen_lieu_dau['Banhthapcam'] + \n",
    "                bd_banhdeo * nguyen_lieu_dau['banhdeo']\n",
    "    ) \n",
    "    # Trả về tổng nguyên liệu đường và đậu đã tính\n",
    "    return tong_duong, tong_deo \n",
    "\n",
    "# Dictionary chứa lượng đường (kg) sử dụng cho mỗi chiếc bánh từng loại\n",
    "nguyen_lieu_duong = {\n",
    "    'Banhdauxanh': 0.04, \n",
    "    'Banhthapcam': 0.06, \n",
    "    'banhdeo': 0.05\n",
    "}\n",
    "\n",
    "# Dictionary chứa lượng đậu (kg) sử dụng cho mỗi chiếc bánh từng loại\n",
    "nguyen_lieu_dau = {\n",
    "    'Banhdauxanh': 0.07, \n",
    "    'Banhthapcam': 0.00, \n",
    "    'banhdeo': 0.02\n",
    "}\n",
    "\n",
    "# Nhập số lượng từng loại bánh từ người dùng\n",
    "bd_banhdauxanh = int(input('Please số lượng bánh đậu xanh: '))\n",
    "bd_banhthapcam = int(input('Please số lượng bánh thập cẩm: '))\n",
    "bd_banhdeo = int(input('Please số lượng bánh dẻo: '))\n",
    "\n",
    "# Gọi hàm tính nguyên liệu với số lượng bánh đã nhập\n",
    "tong_duong, tong_deo = tinh_nguyen_lieu(bd_banhdauxanh, bd_banhthapcam, bd_banhdeo)\n",
    "\n",
    "# In kết quả số kg đường cần dùng, định dạng 2 chữ số thập phân\n",
    "print(f'Nguyên liệu đường làm bánh là {tong_duong:.2f} Kg') \n",
    "\n",
    "# In kết quả số kg đậu cần dùng, định dạng 2 chữ số thập phân\n",
    "print(f'Nguyễn liệu đậu để làm bánh là {tong_deo:.2f} Kg') \n",
    "\n",
    "# Nếu chạy trực tiếp file này thì cũng gọi hàm tính nguyên liệu (dù không in kết quả)\n",
    "if __name__ == \"__main__\":\n",
    "    tinh_nguyen_lieu(bd_banhdauxanh, bd_banhthapcam, bd_banhdeo)\n"
   ]
  },
  {
   "cell_type": "markdown",
   "id": "0f2483fe",
   "metadata": {},
   "source": [
    "## Lab 4 - Bài 3"
   ]
  },
  {
   "cell_type": "code",
   "execution_count": null,
   "id": "7034990b",
   "metadata": {},
   "outputs": [],
   "source": [
    "# Code lab 4  bài 3 ở đây"
   ]
  },
  {
   "cell_type": "code",
   "execution_count": null,
   "id": "b1b2c7e6",
   "metadata": {},
   "outputs": [],
   "source": [
    "# Vòng lặp nhập liên tục các số nguyên từ người dùng\n",
    "while True: \n",
    "    # Nhập một chuỗi số từ bàn phím, các số cách nhau bằng dấu cách\n",
    "    number = input('Please: ') \n",
    "\n",
    "    # Nếu nhập 's' thì thoát khỏi vòng lặp\n",
    "    if number == 's': \n",
    "        break \n",
    "\n",
    "    # Chuyển chuỗi vừa nhập thành các số nguyên\n",
    "    gan = map(int, number.split())\n",
    "\n",
    "    # Lọc các số chẵn bằng hàm filter và lambda\n",
    "    my_list = list(filter(lambda x: x % 2 == 0, gan)) \n",
    "\n",
    "    # In ra danh sách số chẵn đã lọc\n",
    "    print(my_list)\n"
   ]
  },
  {
   "cell_type": "markdown",
   "id": "d36ea3d3",
   "metadata": {},
   "source": [
    "## Lab 4 - Bài 4"
   ]
  },
  {
   "cell_type": "code",
   "execution_count": null,
   "id": "4c707ec1",
   "metadata": {},
   "outputs": [],
   "source": [
    "# code lab 4 bài 4 ở đây"
   ]
  },
  {
   "cell_type": "code",
   "execution_count": null,
   "id": "f249de97",
   "metadata": {},
   "outputs": [],
   "source": []
  },
  {
   "cell_type": "code",
   "execution_count": null,
   "id": "a146337d",
   "metadata": {},
   "outputs": [],
   "source": []
  },
  {
   "cell_type": "markdown",
   "id": "e2b41d4a",
   "metadata": {},
   "source": [
    "## Lab 4 - Bài 5: bài tập làm thêm"
   ]
  },
  {
   "cell_type": "code",
   "execution_count": null,
   "id": "0e0172f7",
   "metadata": {},
   "outputs": [],
   "source": [
    "# code lab 4  bài làm thêm ở đây "
   ]
  },
  {
   "cell_type": "code",
   "execution_count": null,
   "id": "25893ef8",
   "metadata": {},
   "outputs": [],
   "source": []
  }
 ],
 "metadata": {
  "kernelspec": {
   "display_name": "Python 3",
   "language": "python",
   "name": "python3"
  },
  "language_info": {
   "codemirror_mode": {
    "name": "ipython",
    "version": 3
   },
   "file_extension": ".py",
   "mimetype": "text/x-python",
   "name": "python",
   "nbconvert_exporter": "python",
   "pygments_lexer": "ipython3",
   "version": "3.13.7"
  }
 },
 "nbformat": 4,
 "nbformat_minor": 5
}
