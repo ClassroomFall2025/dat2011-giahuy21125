{
 "cells": [
  {
   "cell_type": "markdown",
   "id": "fdeff819",
   "metadata": {},
   "source": [
    "# Sinh Viên thực hiện Lab 3 ở Đây"
   ]
  },
  {
   "cell_type": "markdown",
   "id": "acc5d7dc",
   "metadata": {},
   "source": [
    "## Lab 3 - Bài 1"
   ]
  },
  {
   "cell_type": "code",
   "execution_count": null,
   "id": "001e0507",
   "metadata": {},
   "outputs": [],
   "source": [
    "# Code lab 3 bài 1 ở đây"
   ]
  },
  {
   "cell_type": "code",
   "execution_count": null,
   "id": "845a1467",
   "metadata": {},
   "outputs": [],
   "source": [
    "# Tạo một danh sách rỗng để lưu dãy số nguyên\n",
    "Save = []\n",
    "\n",
    "# Nhập dãy số kiểu chuỗi từ người dùng, các số cách nhau bằng dấu cách\n",
    "dayso = input('Please int: ') \n",
    "\n",
    "# Tách chuỗi các số thành từng phần tử dạng số nguyên và lưu vào danh sách Save\n",
    "Save = list(map(int, dayso.split()))\n",
    "\n",
    "# Sắp xếp danh sách Save theo thứ tự giảm dần (từ lớn đến nhỏ)\n",
    "Save.sort(reverse=True) # Số lớn nhất nằm đầu danh sách sau khi sort\n",
    "\n",
    "# In ra danh sách đã sắp xếp\n",
    "print(Save)\n",
    "\n",
    "# In ra giá trị nhỏ nhất (ở cuối danh sách sau sort giảm dần, nhưng lấy phần tử đầu vì chú thích chưa rõ)\n",
    "print(f'Giá trị nhỏ nhất trong phần tử là: {Save[-1]}')\n"
   ]
  },
  {
   "cell_type": "markdown",
   "id": "c0835310",
   "metadata": {},
   "source": [
    "## Lab 3 - Bài 2"
   ]
  },
  {
   "cell_type": "code",
   "execution_count": null,
   "id": "fa9cb39f",
   "metadata": {},
   "outputs": [],
   "source": [
    "# Code lab 3  bài 2 ở đây"
   ]
  },
  {
   "cell_type": "code",
   "execution_count": 1,
   "id": "32a842a4",
   "metadata": {},
   "outputs": [
    {
     "name": "stdout",
     "output_type": "stream",
     "text": [
      "{'Họ tên': ('Gia HUY',), 'Điểm': 9.0, 'Học lực': 'Xuất sắc'}\n"
     ]
    }
   ],
   "source": [
    "sinh_vien = {\n",
    "    \"Họ tên\":\"\",\n",
    "    \"Điểm\":\"\"\n",
    "}\n",
    "ho_ten = input(\"Nhập họ và tên của sinh viên:\"),\n",
    "diem = float(input(\"Nhập điểm:\"))\n",
    "sinh_vien[\"Họ tên\"] = ho_ten\n",
    "sinh_vien[\"Điểm\"] = diem\n",
    "if diem >= 9 and diem <=10:\n",
    "    hoc_luc = \"Xuất sắc\"\n",
    "elif diem >= 8:\n",
    "    hoc_luc = \"Giỏi\"\n",
    "elif diem >= 7:\n",
    "    hoc_luc = \"Khá\"\n",
    "elif diem >= 5:\n",
    "    hoc_luc = \"Trung bình\"\n",
    "else:\n",
    "    hoc_luc = \"Chưa đạt\"\n",
    "sinh_vien[\"Học lực\"] = hoc_luc\n",
    "print(sinh_vien)"
   ]
  },
  {
   "cell_type": "code",
   "execution_count": 3,
   "id": "f729dcf9",
   "metadata": {},
   "outputs": [
    {
     "name": "stdout",
     "output_type": "stream",
     "text": [
      "Thoát chương trình\n",
      "[{'Họ tên': 'Hồ Gia Huy', 'Điểm': 10.0, 'Học lực': 'Xuất sắc'}]\n"
     ]
    }
   ],
   "source": [
    "# Tạo danh sách trống để chứa thông tin sinh viên\n",
    "ds_sinhvien = []\n",
    "\n",
    "# Vòng lặp vô hạn để nhập dữ liệu sinh viên đến khi nhập 'q' để thoát\n",
    "while True:\n",
    "    # Nhập họ tên sinh viên, lưu dưới dạng chuỗi\n",
    "    ho_ten = input(\"Nhập họ và tên của sinh viên: \")\n",
    "    \n",
    "    # Kiểm tra nếu người dùng nhập 'q' thì thoát vòng lặp\n",
    "    if ho_ten.lower() == \"q\":\n",
    "        print(\"Thoát chương trình\")\n",
    "        break\n",
    "    else:\n",
    "        # Nhập điểm số, ép kiểu sang float để xử lý số thực\n",
    "        diem = float(input(\"Nhập điểm: \"))\n",
    "        \n",
    "        # Xác định học lực dựa trên điểm nhập\n",
    "        if diem >= 9 and diem <= 10:\n",
    "            hoc_luc = \"Xuất sắc\"\n",
    "        elif diem >= 8:\n",
    "            hoc_luc = \"Giỏi\"\n",
    "        elif diem >= 7:\n",
    "            hoc_luc = \"Khá\"\n",
    "        elif diem >= 5:\n",
    "            hoc_luc = \"Trung bình\"\n",
    "        else:\n",
    "            hoc_luc = \"Chưa đạt\"\n",
    "        \n",
    "        # Tạo từ điển chứa thông tin sinh viên hiện tại\n",
    "        sinh_vien = {}\n",
    "        sinh_vien[\"Họ tên\"] = ho_ten\n",
    "        sinh_vien[\"Điểm\"] = diem\n",
    "        sinh_vien[\"Học lực\"] = hoc_luc\n",
    "        \n",
    "        # Thêm từ điển sinh viên vào danh sách ds_sinhvien\n",
    "        ds_sinhvien.append(sinh_vien)\n",
    "\n",
    "# In ra toàn bộ danh sách sinh viên sau khi nhập xong\n",
    "print(ds_sinhvien)\n"
   ]
  },
  {
   "cell_type": "markdown",
   "id": "0f2483fe",
   "metadata": {},
   "source": [
    "## Lab 3 - Bài 3"
   ]
  },
  {
   "cell_type": "code",
   "execution_count": null,
   "id": "7034990b",
   "metadata": {},
   "outputs": [],
   "source": [
    "# Code lab 3  bài 3 ở đây"
   ]
  },
  {
   "cell_type": "code",
   "execution_count": null,
   "id": "bcc0a325",
   "metadata": {},
   "outputs": [],
   "source": [
    "import math  # Thư viện dùng để tính căn bậc hai\n",
    "\n",
    "# Nhập số nguyên cần kiểm tra từ người dùng\n",
    "n = int(input('Nhập số nguyên tố: '))\n",
    "\n",
    "# Kiểm tra nếu số bé hơn 0 thì báo lỗi nhập\n",
    "if n < 0:\n",
    "    print('Vui lòng nhập số nguyên tố')\n",
    "# Kiểm tra nếu n nhỏ hơn hoặc bằng 2 thì kết luận không phải số nguyên tố\n",
    "elif n <= 2: \n",
    "    print(f'{n} Không phải là số nguyên tố ')\n",
    "else: \n",
    "    # Lặp từ 2 đến căn bậc hai của n, kiểm tra chia hết\n",
    "    for i in range(2, int(math.sqrt(n) + 1)): \n",
    "        # Nếu n chia hết cho i, không phải là số nguyên tố\n",
    "        if n % i == 0:\n",
    "            print(f'{n} Không phải số nguyên tố')\n",
    "            break  # Thoát vòng lặp vì đã tìm được ước số\n",
    "    else: \n",
    "        # Nếu hết vòng lặp không bị chia hết, đó là số nguyên tố\n",
    "        print(f'{n} Nó là số nguyên tố')\n"
   ]
  },
  {
   "cell_type": "markdown",
   "id": "d36ea3d3",
   "metadata": {},
   "source": [
    "## Lab 3 - Bài 4"
   ]
  },
  {
   "cell_type": "code",
   "execution_count": null,
   "id": "4c707ec1",
   "metadata": {},
   "outputs": [],
   "source": [
    "# code lab 3 bài 4 ở đây"
   ]
  },
  {
   "cell_type": "code",
   "execution_count": null,
   "id": "acbb08f4",
   "metadata": {},
   "outputs": [],
   "source": [
    "# Nhập giá trị bảng cửu chương mà người dùng muốn xem (từ 1 đến 9)\n",
    "n = int(input('Vui lòng nhập bảng cửu chương bạn muốn tính: ')) \n",
    "\n",
    "# Kiểm tra nếu n không nằm trong khoảng 1 đến 9 thì báo lỗi\n",
    "if n < 1 or n > 9:\n",
    "    print('Chỉ nhập được 1 đến 9 thôi!')\n",
    "else:\n",
    "    # In dòng tiêu đề cho bảng cửu chương đã chọn\n",
    "    print(f'Bảng cửu chương {n}')\n",
    "    # Lặp qua từng số từ 1 đến 10 để in từng dòng kết quả nhân\n",
    "    for i in range(1, 11):\n",
    "        print(f'{n} * {i} = {n * i}')\n"
   ]
  },
  {
   "cell_type": "markdown",
   "id": "e2b41d4a",
   "metadata": {},
   "source": [
    "## Lab 3 - Bài 5: bài tập làm thêm"
   ]
  },
  {
   "cell_type": "code",
   "execution_count": null,
   "id": "0e0172f7",
   "metadata": {},
   "outputs": [],
   "source": [
    "# code lab 3  bài làm thêm ở đây "
   ]
  },
  {
   "cell_type": "code",
   "execution_count": null,
   "id": "8a7ca44e",
   "metadata": {},
   "outputs": [],
   "source": []
  },
  {
   "cell_type": "code",
   "execution_count": null,
   "id": "d40bfee9",
   "metadata": {},
   "outputs": [],
   "source": []
  }
 ],
 "metadata": {
  "kernelspec": {
   "display_name": "Python 3",
   "language": "python",
   "name": "python3"
  },
  "language_info": {
   "codemirror_mode": {
    "name": "ipython",
    "version": 3
   },
   "file_extension": ".py",
   "mimetype": "text/x-python",
   "name": "python",
   "nbconvert_exporter": "python",
   "pygments_lexer": "ipython3",
   "version": "3.13.7"
  }
 },
 "nbformat": 4,
 "nbformat_minor": 5
}
